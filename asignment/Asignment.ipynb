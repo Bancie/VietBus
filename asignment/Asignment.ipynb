{
 "cells": [
  {
   "cell_type": "markdown",
   "id": "4cf23bbc",
   "metadata": {},
   "source": [
    "# Task 1"
   ]
  },
  {
   "cell_type": "markdown",
   "id": "0192091e",
   "metadata": {},
   "source": [
    "## Sơ đồ use case toàn hệ thống"
   ]
  },
  {
   "cell_type": "markdown",
   "id": "452fdf89",
   "metadata": {},
   "source": [
    "## Sơ đồ use case riêng cho module Bus Schedule & Tracking"
   ]
  }
 ],
 "metadata": {
  "kernelspec": {
   "display_name": "3.13.7",
   "language": "python",
   "name": "python3"
  },
  "language_info": {
   "name": "python",
   "version": "3.13.7"
  }
 },
 "nbformat": 4,
 "nbformat_minor": 5
}
